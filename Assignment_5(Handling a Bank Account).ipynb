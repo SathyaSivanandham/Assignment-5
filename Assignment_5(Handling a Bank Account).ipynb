{
 "cells": [
  {
   "cell_type": "markdown",
   "id": "d851392f",
   "metadata": {},
   "source": [
    "# Challenge 5: Handling a Bank Account"
   ]
  },
  {
   "cell_type": "code",
   "execution_count": 1,
   "id": "ad1d0d69",
   "metadata": {},
   "outputs": [
    {
     "name": "stdout",
     "output_type": "stream",
     "text": [
      "Balance:\n",
      "Balance= 2000\n",
      "   \n",
      "Withdraw Details:\n",
      "Balance= 2000\n",
      "Withdraw: 500\n",
      "Balance= 1500\n",
      "   \n",
      "Deposit Details:\n",
      "Balance= 1500\n",
      "Deposited: 500\n",
      "Balance= 2000\n",
      "   \n",
      "Intreset Details:\n",
      "Balance= 2000\n",
      "InterestRate= 5\n",
      "Interest Amount= 100\n"
     ]
    }
   ],
   "source": [
    "class Account:\n",
    "    def __init__(self, title=None, balance=0):\n",
    "        self.title=title\n",
    "        self.balance=balance\n",
    " \n",
    "    def withdraw(self):\n",
    "        print(\"Balance=\", self.balance)\n",
    "        amount = 500\n",
    "        self.balance-=amount\n",
    "        print(\"Withdraw:\", amount)\n",
    "        print(\"Balance=\", self.balance)\n",
    "        return self.balance\n",
    "    pass\n",
    "        \n",
    "    def deposit(self):\n",
    "        print(\"Balance=\", self.balance)\n",
    "        amount=500\n",
    "        self.balance += amount\n",
    "        print(\"Deposited:\",amount)\n",
    "        print(\"Balance=\", self.balance)\n",
    "        return self.balance\n",
    "    pass\n",
    "\n",
    "    def getBalance(self):\n",
    "        print(\"Balance=\", self.balance)\n",
    "        pass\n",
    "    \n",
    "class SavingsAccount(Account) : \n",
    "    def __init__(self, title=None, balance=0, interestRate=0):\n",
    "        super().__init__(title, balance)\n",
    "        self.interestRate = interestRate\n",
    "        \n",
    "    def interestAmount(self):\n",
    "        self.account=(self.balance*self.interestRate)/100\n",
    "        print(\"Balance=\", self.balance)\n",
    "        print(\"InterestRate=\", self.interestRate)\n",
    "        print(\"Interest Amount=\", int(self.account))\n",
    "        pass\n",
    "        \n",
    "s = Account(\"Edyoda\", 2000)\n",
    "print(\"Balance:\")\n",
    "s.getBalance()\n",
    "print(\"   \")\n",
    "print(\"Withdraw Details:\")\n",
    "s.withdraw()\n",
    "print(\"   \")\n",
    "print(\"Deposit Details:\")\n",
    "s.deposit()\n",
    "b = SavingsAccount(\"Edyoda\", 2000, 5)\n",
    "print(\"   \")\n",
    "print(\"Intreset Details:\")\n",
    "b.interestAmount()"
   ]
  },
  {
   "cell_type": "code",
   "execution_count": null,
   "id": "09625ad9",
   "metadata": {},
   "outputs": [],
   "source": []
  }
 ],
 "metadata": {
  "kernelspec": {
   "display_name": "Python 3 (ipykernel)",
   "language": "python",
   "name": "python3"
  },
  "language_info": {
   "codemirror_mode": {
    "name": "ipython",
    "version": 3
   },
   "file_extension": ".py",
   "mimetype": "text/x-python",
   "name": "python",
   "nbconvert_exporter": "python",
   "pygments_lexer": "ipython3",
   "version": "3.11.0"
  }
 },
 "nbformat": 4,
 "nbformat_minor": 5
}
