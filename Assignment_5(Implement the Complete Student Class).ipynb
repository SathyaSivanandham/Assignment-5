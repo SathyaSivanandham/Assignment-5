{
 "cells": [
  {
   "cell_type": "markdown",
   "id": "810ac752",
   "metadata": {},
   "source": [
    "# Challenge 3: Implement the Complete Student Class"
   ]
  },
  {
   "cell_type": "code",
   "execution_count": 1,
   "id": "0c5cc445",
   "metadata": {},
   "outputs": [
    {
     "name": "stdout",
     "output_type": "stream",
     "text": [
      "Student Name is : Sathya\n",
      "Roll Number is : 100\n"
     ]
    }
   ],
   "source": [
    "class Student:\n",
    "    \n",
    "    def init(self,Name,Rollno):\n",
    "        self.__name=Name\n",
    "        self.__rollno=Rollno\n",
    "        \n",
    "    #Setter Method\n",
    "    def set_name(self,x):\n",
    "        self.__name=x\n",
    "        pass\n",
    "\n",
    "    #Getter Method\n",
    "    def get_name(self):\n",
    "        print(\"Student Name is :\", self.__name)\n",
    "        pass\n",
    "\n",
    "    #Setter Method\n",
    "    def set_rollno(self,a):\n",
    "        self.__rollno=a\n",
    "        pass\n",
    "\n",
    "    #Getter Method\n",
    "    def get_rollno(self):\n",
    "        print(\"Roll Number is :\", self.__rollno)\n",
    "    pass\n",
    "\n",
    "s=Student()\n",
    "s.set_name(\"Sathya\")\n",
    "s.get_name()\n",
    "s.set_rollno(100)\n",
    "s.get_rollno()"
   ]
  },
  {
   "cell_type": "code",
   "execution_count": null,
   "id": "5382f729",
   "metadata": {},
   "outputs": [],
   "source": []
  }
 ],
 "metadata": {
  "kernelspec": {
   "display_name": "Python 3 (ipykernel)",
   "language": "python",
   "name": "python3"
  },
  "language_info": {
   "codemirror_mode": {
    "name": "ipython",
    "version": 3
   },
   "file_extension": ".py",
   "mimetype": "text/x-python",
   "name": "python",
   "nbconvert_exporter": "python",
   "pygments_lexer": "ipython3",
   "version": "3.11.0"
  }
 },
 "nbformat": 4,
 "nbformat_minor": 5
}
